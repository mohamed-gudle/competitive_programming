{
  "nbformat": 4,
  "nbformat_minor": 0,
  "metadata": {
    "colab": {
      "provenance": [],
      "authorship_tag": "ABX9TyN5nQ9tARYxUt+g6G/9ioRR",
      "include_colab_link": true
    },
    "kernelspec": {
      "name": "python3",
      "display_name": "Python 3"
    },
    "language_info": {
      "name": "python"
    }
  },
  "cells": [
    {
      "cell_type": "markdown",
      "metadata": {
        "id": "view-in-github",
        "colab_type": "text"
      },
      "source": [
        "<a href=\"https://colab.research.google.com/github/mohamed-gudle/competitive_programming/blob/main/competitive_programming.ipynb\" target=\"_parent\"><img src=\"https://colab.research.google.com/assets/colab-badge.svg\" alt=\"Open In Colab\"/></a>"
      ]
    },
    {
      "cell_type": "markdown",
      "source": [
        "# ADS progress Sheet"
      ],
      "metadata": {
        "id": "XjWRmJvEXD1t"
      }
    },
    {
      "cell_type": "markdown",
      "source": [
        "### FizzBuzz"
      ],
      "metadata": {
        "id": "6ANVG4mSXLfx"
      }
    },
    {
      "cell_type": "code",
      "source": [
        "class Solution(object):\n",
        "    def fizzBuzz(self, n):\n",
        "        \"\"\"\n",
        "        :type n: int\n",
        "        :rtype: List[str]\n",
        "        \"\"\"\n",
        "        ans=[]\n",
        "        for i in range(1,n+1):\n",
        "            if i % 3==0 and i % 5 ==0:\n",
        "                ans.append(\"FizzBuzz\")\n",
        "            elif i % 3==0:\n",
        "                ans.append(\"Fizz\")\n",
        "            elif i % 5==0:\n",
        "                ans.append(\"Buzz\")\n",
        "            else:\n",
        "                ans.append(str(i))\n",
        "        return ans"
      ],
      "metadata": {
        "id": "oskblL43XI4q"
      },
      "execution_count": null,
      "outputs": []
    },
    {
      "cell_type": "markdown",
      "source": [],
      "metadata": {
        "id": "b-466zgMXzpe"
      }
    },
    {
      "cell_type": "markdown",
      "source": [
        "### round off grade to the nearest 5 "
      ],
      "metadata": {
        "id": "LiThTu0UXTmI"
      }
    },
    {
      "cell_type": "code",
      "source": [
        "def gradingStudents(grades):\n",
        "    # Write your code here\n",
        "    for i in range(len(grades)):\n",
        "        if grades[i]>=38:\n",
        "            if grades[i] % 5 >=3 :\n",
        "                grades[i]=5*((grades[i]//5) + 1)\n",
        "    return grades"
      ],
      "metadata": {
        "id": "wjs7FdRoXaPG"
      },
      "execution_count": null,
      "outputs": []
    },
    {
      "cell_type": "markdown",
      "source": [
        "### How many 1*2 Squares fit in a M*N rectangle "
      ],
      "metadata": {
        "id": "htwS5AxUXdt5"
      }
    },
    {
      "cell_type": "code",
      "source": [
        "if __name__ == '__main__':\n",
        "    M, N = input().split(\" \")\n",
        "    print((int(M) * int(N)) // 2)"
      ],
      "metadata": {
        "id": "yc3dwFlfXtnV"
      },
      "execution_count": null,
      "outputs": []
    },
    {
      "cell_type": "markdown",
      "source": [
        "### Bubble Sort"
      ],
      "metadata": {
        "id": "Ya9mw8jHa0-d"
      }
    },
    {
      "cell_type": "code",
      "source": [
        "def countSwaps(a):\n",
        "    # Write your code here\n",
        "    swap=True\n",
        "    count=0\n",
        "    while swap:\n",
        "        swap=False\n",
        "        for i in range(len(a)-1):\n",
        "            if a[i]>a[i+1]:\n",
        "                temp=a[i]\n",
        "                a[i]=a[i+1]\n",
        "                a[i+1]=temp\n",
        "                count=count+1\n",
        "                swap=True\n",
        "    print(\"Array is sorted in {} swaps.\".format(count))\n",
        "    print(\"First Element: {}\".format(a[0]))\n",
        "    print(\"Last Element: {}\".format(a[len(a)-1]))"
      ],
      "metadata": {
        "id": "LNMGbRP8a38f"
      },
      "execution_count": null,
      "outputs": []
    },
    {
      "cell_type": "markdown",
      "source": [
        "### Insertion Sort"
      ],
      "metadata": {
        "id": "zvJIXhtaf_rc"
      }
    },
    {
      "cell_type": "code",
      "source": [
        "def insertionSort1(n, arr):\n",
        "    # Write your code here\n",
        "    insertValue=arr[-1]\n",
        "    for i in range(len(arr)-1,-1,-1):\n",
        "        if i==0:\n",
        "            arr[i]=insertValue\n",
        "            print(' '.join([str(a) for a in arr]))\n",
        "            break\n",
        "        \n",
        "        arr[i]=arr[i-1]\n",
        "        \n",
        "        if arr[i]< insertValue:\n",
        "            arr[i]=insertValue\n",
        "            print(' '.join([str(a) for a in arr]))\n",
        "            break\n",
        "        print(' '.join([str(a) for a in arr]))"
      ],
      "metadata": {
        "id": "9mMQOglzgC0I"
      },
      "execution_count": null,
      "outputs": []
    },
    {
      "cell_type": "markdown",
      "source": [
        "### Counting Sort"
      ],
      "metadata": {
        "id": "RATQ65iph9kX"
      }
    },
    {
      "cell_type": "code",
      "source": [
        "def countingSort(arr):\n",
        "    # Write your code here\n",
        "    count=[0]*100\n",
        "    for i in range(len(arr)):\n",
        "        count[arr[i]]+=1\n",
        "    return count"
      ],
      "metadata": {
        "id": "5Ls-ZDm8iAjC"
      },
      "execution_count": null,
      "outputs": []
    },
    {
      "cell_type": "markdown",
      "source": [
        "### Selection Sort"
      ],
      "metadata": {
        "id": "kjVn6Owu0d3I"
      }
    },
    {
      "cell_type": "code",
      "source": [
        "class Solution: \n",
        "    def select(self, arr, i):\n",
        "        minElem=arr[i]\n",
        "        index=i\n",
        "        for a in range(i,len(arr)):\n",
        "            if arr[a]<minElem:\n",
        "                minElem=arr[a]\n",
        "                index=a\n",
        "        return minElem,index\n",
        "                \n",
        "    \n",
        "    def selectionSort(self, arr,n):\n",
        "        #code here\n",
        "        for b in range(len(arr)):\n",
        "            elem, index = self.select(arr, b)\n",
        "            temp=arr[b]\n",
        "            arr[b]=arr[index]\n",
        "            arr[index]=temp\n",
        "        return arr"
      ],
      "metadata": {
        "id": "begbgOZT0dfL"
      },
      "execution_count": null,
      "outputs": []
    },
    {
      "cell_type": "markdown",
      "source": [
        "### Sort the words in the sentence : I used Selection Sort\n"
      ],
      "metadata": {
        "id": "cBlrZ2kj3i6Z"
      }
    },
    {
      "cell_type": "code",
      "source": [
        "class Solution(object):\n",
        "    def select(self,words,i):\n",
        "        minW=int(words[i][-1])\n",
        "        index=i\n",
        "        word=words[i]\n",
        "        for a in range(i,len(words)):\n",
        "            if int(words[a][-1])<minW:\n",
        "                index=a\n",
        "                word=words[a]\n",
        "                minW=int(words[a][-1])\n",
        "        return index,word\n",
        "                \n",
        "            \n",
        "    def sortSentence(self, s):\n",
        "        \"\"\"\n",
        "        :type s: str\n",
        "        :rtype: str\n",
        "        \"\"\"\n",
        "        words=s.split(\" \")\n",
        "        \n",
        "        for i in range(len(words)):\n",
        "            index,word=self.select(words,i)\n",
        "            temp=words[index]\n",
        "            words[index]=words[i]\n",
        "            words[i]=temp\n",
        "        return (\" \".join([word[:-1] for word in words]))\n",
        "            "
      ],
      "metadata": {
        "id": "En_Nuv9H3onh"
      },
      "execution_count": null,
      "outputs": []
    },
    {
      "cell_type": "markdown",
      "source": [
        "### Count the numbers less than each elem in the arr"
      ],
      "metadata": {
        "id": "ujFcll4_3uBJ"
      }
    },
    {
      "cell_type": "code",
      "source": [
        "class Solution(object):\n",
        "    def smallerNumbersThanCurrent(self, nums):\n",
        "        \"\"\"\n",
        "        :type nums: List[int]\n",
        "        :rtype: List[int]\n",
        "        \"\"\"\n",
        "        count=[0]*len(nums)\n",
        "        for i in range(len(nums)):\n",
        "            current=nums[i]\n",
        "            for b in range(len(nums)):\n",
        "                if nums[b]<nums[i]:\n",
        "                    count[i]+=1\n",
        "        return count"
      ],
      "metadata": {
        "id": "-H4Hz_7X31CF"
      },
      "execution_count": null,
      "outputs": []
    },
    {
      "cell_type": "markdown",
      "source": [
        "### Count appearances of target"
      ],
      "metadata": {
        "id": "DBmhUjG78IqW"
      }
    },
    {
      "cell_type": "code",
      "source": [
        "class Solution(object):\n",
        "    def targetIndices(self, nums, target):\n",
        "        \"\"\"\n",
        "        :type nums: List[int]\n",
        "        :type target: int\n",
        "        :rtype: List[int]\n",
        "        \"\"\"\n",
        "        ans=[]\n",
        "        nums.sort()\n",
        "        for i in range(len(nums)):\n",
        "            if nums[i]==target:\n",
        "                ans.append(i)\n",
        "        return ans"
      ],
      "metadata": {
        "id": "x9ErSWq38N18"
      },
      "execution_count": null,
      "outputs": []
    },
    {
      "cell_type": "markdown",
      "source": [
        "### Sort Colors"
      ],
      "metadata": {
        "id": "HrhujDlFMvo9"
      }
    },
    {
      "cell_type": "code",
      "source": [
        "class Solution(object):\n",
        "    def sortColors(self, nums):\n",
        "        \"\"\"\n",
        "        :type nums: List[int]\n",
        "        :rtype: None Do not return anything, modify nums in-place instead.\n",
        "        \"\"\"\n",
        "        nums.sort()"
      ],
      "metadata": {
        "id": "hpE9Wn2gMyqh"
      },
      "execution_count": null,
      "outputs": []
    },
    {
      "cell_type": "markdown",
      "source": [
        "### Nearing x,y points to 0,0 coordinate \n",
        "I tried using selection sort but a time limit exceeded happened\n",
        "then i used mergesort and it worked well"
      ],
      "metadata": {
        "id": "cHyDjIAuS6MU"
      }
    },
    {
      "cell_type": "code",
      "source": [
        "import math\n",
        "class Solution(object):\n",
        "    def Euclidean(self,points):\n",
        "        return math.sqrt(pow(points[0],2)+pow(points[1],2))\n",
        "    \n",
        "    def Select(self,points,index):\n",
        "        minPoints=points[index]\n",
        "        minDistance=self.Euclidean(minPoints)\n",
        "        minIndex=index\n",
        "        for i in range(index,len(points)):\n",
        "            distance=self.Euclidean(points[i])\n",
        "            if minDistance>distance:\n",
        "                minDistance=distance\n",
        "                minIndex=i\n",
        "        return minIndex\n",
        "    \n",
        "    def SelectionSort(self,points):\n",
        "        \n",
        "        for i in range(len(points)):\n",
        "            minIndex=self.Select(points,i)\n",
        "            temp=points[minIndex]\n",
        "            points[minIndex]=points[i]\n",
        "            points[i]=temp\n",
        "        return points\n",
        "        \n",
        "    # Python program for implementation of MergeSort\n",
        "    def mergeSort(self,arr):\n",
        "        if len(arr) > 1:\n",
        "\n",
        "            # Finding the mid of the array\n",
        "            mid = len(arr)//2\n",
        "\n",
        "            # Dividing the array elements\n",
        "            L = arr[:mid]\n",
        "\n",
        "            # into 2 halves\n",
        "            R = arr[mid:]\n",
        "\n",
        "            # Sorting the first half\n",
        "            self.mergeSort(L)\n",
        "\n",
        "            # Sorting the second half\n",
        "            self.mergeSort(R)\n",
        "\n",
        "            i = j = k = 0\n",
        "\n",
        "            # Copy data to temp arrays L[] and R[]\n",
        "            while i < len(L) and j < len(R):\n",
        "                distanceL=self.Euclidean(L[i])\n",
        "                distanceR=self.Euclidean(R[j])\n",
        "                if distanceL <= distanceR:\n",
        "                    arr[k] = L[i]\n",
        "                    i += 1\n",
        "                else:\n",
        "                    arr[k] = R[j]\n",
        "                    j += 1\n",
        "                k += 1\n",
        "\n",
        "            # Checking if any element was left\n",
        "            while i < len(L):\n",
        "                arr[k] = L[i]\n",
        "                i += 1\n",
        "                k += 1\n",
        "\n",
        "            while j < len(R):\n",
        "                arr[k] = R[j]\n",
        "                j += 1\n",
        "                k += 1\n",
        "\n",
        "        return arr\n",
        "\n",
        "\n",
        "\n",
        "        \n",
        "    def kClosest(self, points, k):\n",
        "        \"\"\"\n",
        "        :type points: List[List[int]]\n",
        "        :type k: int\n",
        "        :rtype: List[List[int]]\n",
        "        \"\"\"\n",
        "        #minDistance=float('inf')\n",
        "        #minPoints=self.SelectionSort(points)\n",
        "        minPoints=self.mergeSort(points)\n",
        "                \n",
        "        return minPoints[:k]\n",
        "        "
      ],
      "metadata": {
        "id": "fUXSHTwXS-fi"
      },
      "execution_count": null,
      "outputs": []
    },
    {
      "cell_type": "markdown",
      "source": [
        "### 1968. Array With Elements Not Equal to Average of Neighbors\n",
        "for this to work you need every middle element or i%2=!0 to be greater than its surrounding neighbours\n",
        "so insert small elements in alternative positions i.e i%2==0 , then insert the remaining big elements in the remaining positions i %2 !=0 \n",
        "\n",
        "\n",
        "> [1,2,3,4,5]\n",
        ": first step --> [1,--,2--,3]\n",
        ": second step --> [1,4,2,5,3]\n",
        ": small, big, small, big\n"
      ],
      "metadata": {
        "id": "EuUtPWBMo6H9"
      }
    },
    {
      "cell_type": "code",
      "source": [
        "import collections\n",
        "class Solution(object):\n",
        "    def rearrangeArray(self, nums):\n",
        "        \"\"\"\n",
        "        :type nums: List[int]\n",
        "        :rtype: List[int]\n",
        "        \"\"\"\n",
        "        sortedNums=sorted(nums)\n",
        "        sortedNums=collections.deque(sortedNums)\n",
        "        \n",
        "        newNums=[0]*len(nums)\n",
        "        \n",
        "        for i in range(0,len(nums)):\n",
        "            if i%2==0:\n",
        "                newNums[i]=sortedNums.popleft()\n",
        "        for i in range(0,len(nums)):\n",
        "            if i%2!=0:\n",
        "                newNums[i]=sortedNums.popleft()\n",
        "            \n",
        "        return newNums\n",
        "        "
      ],
      "metadata": {
        "id": "RH9NkMOWqQGI"
      },
      "execution_count": null,
      "outputs": []
    },
    {
      "cell_type": "markdown",
      "source": [
        "### 56. Merge Intervals"
      ],
      "metadata": {
        "id": "S2P4PDPPntoM"
      }
    },
    {
      "cell_type": "code",
      "source": [
        "class Solution(object):\n",
        "    def mergesort(self,arr):\n",
        "        if len(arr) > 1:\n",
        "            # Finding the mid of the array\n",
        "            mid = len(arr)//2\n",
        "\n",
        "            # Dividing the array elements\n",
        "            L = arr[:mid]\n",
        "\n",
        "            # into 2 halves\n",
        "            R = arr[mid:]\n",
        "\n",
        "            # Sorting the first half\n",
        "            self.mergesort(L)\n",
        "\n",
        "            # Sorting the second half\n",
        "            self.mergesort(R)\n",
        "\n",
        "            i = j = k = 0\n",
        "\n",
        "            # Copy data to temp arrays L[] and R[]\n",
        "            while i < len(L) and j < len(R):\n",
        "                distanceL=L[i][0]\n",
        "                distanceR=R[j][0]\n",
        "                if distanceL <= distanceR:\n",
        "                    arr[k] = L[i]\n",
        "                    i += 1\n",
        "                else:\n",
        "                    arr[k] = R[j]\n",
        "                    j += 1\n",
        "                k += 1\n",
        "\n",
        "            # Checking if any element was left\n",
        "            while i < len(L):\n",
        "                arr[k] = L[i]\n",
        "                i += 1\n",
        "                k += 1\n",
        "\n",
        "            while j < len(R):\n",
        "                arr[k] = R[j]\n",
        "                j += 1\n",
        "                k += 1\n",
        "\n",
        "        return arr\n",
        "                    \n",
        "            \n",
        "    def merge(self, intervals):\n",
        "        \"\"\"\n",
        "        :type intervals: List[List[int]]\n",
        "        :rtype: List[List[int]]\n",
        "        \"\"\"\n",
        "        intervals=self.mergesort(intervals)\n",
        "        mergedIntervals=[]\n",
        "        running=intervals[0]\n",
        "        \n",
        "        for i in range(1,len(intervals)):\n",
        "            startS=intervals[i][0]\n",
        "            endS=intervals[i][1]\n",
        "            \n",
        "            if startS<=running[1]:\n",
        "                running[1]=max(endS,running[1])\n",
        "            else:\n",
        "                mergedIntervals.append(running)\n",
        "                running=intervals[i]\n",
        "        mergedIntervals.append(running)\n",
        "                \n",
        "        return mergedIntervals\n",
        "        \n",
        "    "
      ],
      "metadata": {
        "id": "kkrgGa--oBKi"
      },
      "execution_count": null,
      "outputs": []
    },
    {
      "cell_type": "markdown",
      "source": [
        "### 1985. Find the Kth Largest Integer in the Array"
      ],
      "metadata": {
        "id": "clHEG-KMThGn"
      }
    },
    {
      "cell_type": "code",
      "source": [
        "class Solution(object):\n",
        "    def kthLargestNumber(self, nums, k):\n",
        "        \"\"\"\n",
        "        :type nums: List[str]\n",
        "        :type k: int\n",
        "        :rtype: str\n",
        "        \"\"\"\n",
        "        nums=[int(a) for a in nums]\n",
        "        nums.sort()\n",
        "        return str(nums[::-1][k-1])"
      ],
      "metadata": {
        "id": "BapSl-LyThii"
      },
      "execution_count": null,
      "outputs": []
    },
    {
      "cell_type": "markdown",
      "source": [
        "### Counting Valleys\n"
      ],
      "metadata": {
        "id": "L9rOqjb31oeL"
      }
    },
    {
      "cell_type": "code",
      "source": [
        "#!/bin/python3\n",
        "\n",
        "import math\n",
        "import os\n",
        "import random\n",
        "import re\n",
        "import sys\n",
        "\n",
        "#\n",
        "# Complete the 'countingValleys' function below.\n",
        "#\n",
        "# The function is expected to return an INTEGER.\n",
        "# The function accepts following parameters:\n",
        "#  1. INTEGER steps\n",
        "#  2. STRING path\n",
        "#A valley is a sequence of consecutive steps below sea level, starting with a step down from sea level and ending with a step up to sea level.\n",
        "\n",
        "\n",
        "def countingValleys(steps, path):\n",
        "    # Write your code here\n",
        "    valley=0\n",
        "    level=0\n",
        "    wentIntoValley=False\n",
        "    for n in path:\n",
        "        if n=='U':\n",
        "            level+=1\n",
        "        if n=='D':\n",
        "            level-=1\n",
        "        if wentIntoValley==False and level== -1:\n",
        "            wentIntoValley=True\n",
        "            valley+=1\n",
        "        if wentIntoValley and level==0:\n",
        "            wentIntoValley=False\n",
        "    return valley\n",
        "    \n",
        "\n",
        "if __name__ == '__main__':\n",
        "    fptr = open(os.environ['OUTPUT_PATH'], 'w')\n",
        "\n",
        "    steps = int(input().strip())\n",
        "\n",
        "    path = input()\n",
        "\n",
        "    result = countingValleys(steps, path)\n",
        "\n",
        "    fptr.write(str(result) + '\\n')\n",
        "\n",
        "    fptr.close()\n"
      ],
      "metadata": {
        "id": "Fo7KUvPc1o0L"
      },
      "execution_count": null,
      "outputs": []
    },
    {
      "cell_type": "markdown",
      "source": [
        "### 1512. Number of Good Pairs"
      ],
      "metadata": {
        "id": "tzEZj9TPTqc4"
      }
    },
    {
      "cell_type": "code",
      "source": [
        "class Solution(object):\n",
        "    def numIdenticalPairs(self, nums):\n",
        "        \"\"\"\n",
        "        :type nums: List[int]\n",
        "        :rtype: int\n",
        "        \"\"\"\n",
        "        goodPairs=[]\n",
        "        for i in range(len(nums)):\n",
        "            for j in range(i+1,len(nums)):\n",
        "                if nums[i]==nums[j]:\n",
        "                    goodPairs.append([i,j])\n",
        "        return len(goodPairs)\n",
        "        "
      ],
      "metadata": {
        "id": "pvTNe7_g15nb"
      },
      "execution_count": null,
      "outputs": []
    },
    {
      "cell_type": "markdown",
      "source": [
        "### Theatre Squares"
      ],
      "metadata": {
        "id": "vc0C5LS_5234"
      }
    },
    {
      "cell_type": "code",
      "source": [
        "import math\n",
        "if __name__==\"__main__\":\n",
        "    m,n,a=\"1 1 1\".split(\" \")\n",
        "    m=int(m)\n",
        "    n=int(n)\n",
        "    a=int(a)\n",
        "    numberOfStones=math.ceil(m/a)* math.ceil(n/a)\n",
        "    print(numberOfStones)"
      ],
      "metadata": {
        "colab": {
          "base_uri": "https://localhost:8080/"
        },
        "id": "kkRqcGnI5UBv",
        "outputId": "4e70fc09-ffc8-4f10-a411-ad70d42b5426"
      },
      "execution_count": 10,
      "outputs": [
        {
          "output_type": "stream",
          "name": "stdout",
          "text": [
            "1\n"
          ]
        }
      ]
    },
    {
      "cell_type": "markdown",
      "source": [
        "### 1679. Max Number of K-Sum Pairs\n",
        "use mergesort to sort \n",
        "then use two pointer left and right to move through the array at once and get the sum "
      ],
      "metadata": {
        "id": "invSr-5N9WIz"
      }
    },
    {
      "cell_type": "code",
      "source": [
        "class Solution(object):\n",
        "    def mergesort(self,arr):\n",
        "        if len(arr)>1:\n",
        "            mid=len(arr)//2\n",
        "            L=self.mergesort(arr[:mid])\n",
        "            R=self.mergesort(arr[mid:])\n",
        "            \n",
        "            i=j=k=0\n",
        "            while i <len(L) and j <len(R):\n",
        "                if L[i]<= R[j]:\n",
        "                    arr[k]=L[i]\n",
        "                    i+=1\n",
        "                else:\n",
        "                    arr[k]=R[j]\n",
        "                    j+=1\n",
        "                k+=1\n",
        "            while j<len(R):\n",
        "                arr[k]=R[j]\n",
        "                k+=1\n",
        "                j+=1\n",
        "            while i <len(L):\n",
        "                arr[k]=L[i]\n",
        "                i+=1\n",
        "                k+=1\n",
        "        return arr\n",
        "    def maxOperations(self, nums, k):\n",
        "        \"\"\"\n",
        "        :type nums: List[int]\n",
        "        :type k: int\n",
        "        :rtype: int\n",
        "        \"\"\"\n",
        "        self.mergesort(nums)\n",
        "        lp=0\n",
        "        rp=len(nums)-1\n",
        "        counter=0\n",
        "        while lp<rp:\n",
        "            if nums[lp]+nums[rp]==k:\n",
        "                counter+=1\n",
        "                lp+=1\n",
        "                rp-=1\n",
        "            elif nums[lp]+nums[rp]<k:\n",
        "                lp+=1\n",
        "            elif nums[lp]+nums[rp]>k:\n",
        "                rp-=1\n",
        "        return counter\n",
        "                \n",
        "            \n",
        "            \n",
        "\n",
        "        "
      ],
      "metadata": {
        "id": "hx8FjXGS9UFh"
      },
      "execution_count": null,
      "outputs": []
    },
    {
      "cell_type": "markdown",
      "source": [
        "### 1630. Arithmetic Subarrays"
      ],
      "metadata": {
        "id": "6hIU1cgyAIez"
      }
    },
    {
      "cell_type": "code",
      "source": [
        "class Solution(object):\n",
        "    def isArithmetic(self, arr):\n",
        "        arr.sort()\n",
        "        diff=arr[1]-arr[0]\n",
        "        for i in range(1,len(arr)):\n",
        "            if arr[i]-arr[i-1]!=diff:\n",
        "                return False\n",
        "        return True\n",
        "        \n",
        "    def checkArithmeticSubarrays(self, nums, l, r):\n",
        "        \"\"\"\n",
        "        :type nums: List[int]\n",
        "        :type l: List[int]\n",
        "        :type r: List[int]\n",
        "        :rtype: List[bool]\n",
        "        \"\"\"\n",
        "        ans=[]\n",
        "        for i in range(len(l)):\n",
        "            subarray=nums[l[i]:r[i]+1]\n",
        "            ans.append(self.isArithmetic(subarray))\n",
        "        return ans\n",
        "            \n",
        "        "
      ],
      "metadata": {
        "id": "g4T-nCL5AHlx"
      },
      "execution_count": null,
      "outputs": []
    },
    {
      "cell_type": "markdown",
      "source": [
        "### 1561. Maximum Number of Coins You Can Get\n",
        "sort then use three pointers : bob points to the beginning and increments by 1\n",
        "mypointer points to second last and decrements by two while alice points to last and decrements by two"
      ],
      "metadata": {
        "id": "0BNfWCXTCHDq"
      }
    },
    {
      "cell_type": "code",
      "source": [
        "class Solution(object):\n",
        "    def maxCoins(self, piles):\n",
        "        \"\"\"\n",
        "        :type piles: List[int]\n",
        "        :rtype: int\n",
        "        \"\"\"\n",
        "        piles.sort()\n",
        "        myPointer,alicePointer,bobPointer=len(piles)-2,len(piles)-1,0\n",
        "        count=0\n",
        "        while bobPointer<myPointer:\n",
        "            count+=piles[myPointer]\n",
        "            myPointer-=2\n",
        "            bobPointer+=1\n",
        "            alicePointer-=2\n",
        "        return count\n",
        "            \n",
        "            "
      ],
      "metadata": {
        "id": "jByxPEMzCGU-"
      },
      "execution_count": null,
      "outputs": []
    },
    {
      "cell_type": "markdown",
      "source": [
        "### Minimize Maximum Pair Sum in Array\n",
        "pointers again"
      ],
      "metadata": {
        "id": "MbABveASD0tA"
      }
    },
    {
      "cell_type": "code",
      "source": [
        "class Solution(object):\n",
        "    def minPairSum(self, nums):\n",
        "        \"\"\"\n",
        "        :type nums: List[int]\n",
        "        :rtype: int\n",
        "        \"\"\"\n",
        "        lp=0\n",
        "        rp=len(nums)-1\n",
        "        nums.sort()\n",
        "        sums=[]\n",
        "        while lp<rp:\n",
        "            sums.append(nums[lp]+nums[rp])\n",
        "            lp+=1\n",
        "            rp-=1\n",
        "        return max(sums)\n",
        "            \n",
        "        "
      ],
      "metadata": {
        "id": "37Oa340mDzzj"
      },
      "execution_count": null,
      "outputs": []
    },
    {
      "cell_type": "markdown",
      "source": [
        "### 969. Pancake Sorting"
      ],
      "metadata": {
        "id": "gq2VfGL7wyOI"
      }
    },
    {
      "cell_type": "code",
      "source": [
        "class Solution(object):\n",
        "    \n",
        "    def flip(self,arr,k,flips):\n",
        "        #if max number at first position just flip once\n",
        "        if k==0:\n",
        "            flips.append(len(arr))\n",
        "            arr=arr[::-1]\n",
        "            return arr\n",
        "        \n",
        "        #flip the subarr to bring the maximum number to position 0\n",
        "        flipSubarr=arr[:k+1]\n",
        "        flipSubarr=flipSubarr[::-1]\n",
        "        flips.append(k+1)\n",
        "        arr=flipSubarr+arr[k+1:]\n",
        "        \n",
        "        #flip the whole array to put the max position to last position\n",
        "        flips.append(len(arr))\n",
        "        arr=arr[::-1]\n",
        "        return arr\n",
        "    \n",
        "    def recursivePancakeSort(self,arr,flips):\n",
        "        sortedArr=sorted(arr)\n",
        "        # base case\n",
        "        if arr==sortedArr:\n",
        "            return []\n",
        "        \n",
        "        positionOfMaximum=len(sortedArr)-1\n",
        "        \n",
        "        if arr!=sortedArr:\n",
        "            k=arr.index(sortedArr[positionOfMaximum])\n",
        "            if k!=counter:\n",
        "                arr=self.flip(arr,k,flips)\n",
        "            arr=self.recursivePancakeSort(arr[:-1],flips)+[arr[-1]]\n",
        "        return flips\n",
        "        \n",
        "    def pancakeSort(self, arr):\n",
        "        \"\"\"\n",
        "        :type arr: List[int]\n",
        "        :rtype: List[int]\n",
        "        \"\"\"\n",
        "        flips=[]\n",
        "        self.recursivePancakeSort(arr,flips)\n",
        "\n",
        "        return flips\n",
        "             \n",
        "        "
      ],
      "metadata": {
        "id": "-Ap9GUzHwybd"
      },
      "execution_count": null,
      "outputs": []
    },
    {
      "cell_type": "markdown",
      "source": [
        "### 1338. Reduce Array Size to The Half"
      ],
      "metadata": {
        "id": "9ugcZw5v5lww"
      }
    },
    {
      "cell_type": "code",
      "source": [
        "import collections\n",
        "import math\n",
        "class Solution(object):\n",
        "    def minSetSize(self, arr):\n",
        "        \"\"\"\n",
        "        :type arr: List[int]\n",
        "        :rtype: int\n",
        "        \"\"\"\n",
        "        occurences=collections.Counter(arr)\n",
        "        sortedOccurences=sorted(occurences.values(),reverse=True)\n",
        "        \n",
        "        \n",
        "        setCounter=0\n",
        "        occurenceCounter=0\n",
        "        halfOfArray=math.ceil(len(arr)/2)\n",
        "        while occurenceCounter<halfOfArray:\n",
        "            occurenceCounter+=sortedOccurences[setCounter]\n",
        "            setCounter+=1\n",
        "        return setCounter\n",
        "        "
      ],
      "metadata": {
        "id": "9H6iYwZS5lST"
      },
      "execution_count": null,
      "outputs": []
    }
  ]
}