{
  "nbformat": 4,
  "nbformat_minor": 0,
  "metadata": {
    "colab": {
      "provenance": [],
      "authorship_tag": "ABX9TyOusbyjau8j2QiRxgTrBjTK",
      "include_colab_link": true
    },
    "kernelspec": {
      "name": "python3",
      "display_name": "Python 3"
    },
    "language_info": {
      "name": "python"
    }
  },
  "cells": [
    {
      "cell_type": "markdown",
      "metadata": {
        "id": "view-in-github",
        "colab_type": "text"
      },
      "source": [
        "<a href=\"https://colab.research.google.com/github/mohamed-gudle/competitive_programming/blob/main/competitive_programming.ipynb\" target=\"_parent\"><img src=\"https://colab.research.google.com/assets/colab-badge.svg\" alt=\"Open In Colab\"/></a>"
      ]
    },
    {
      "cell_type": "markdown",
      "source": [
        "# ADS progress Sheet"
      ],
      "metadata": {
        "id": "XjWRmJvEXD1t"
      }
    },
    {
      "cell_type": "markdown",
      "source": [
        "### FizzBuzz"
      ],
      "metadata": {
        "id": "6ANVG4mSXLfx"
      }
    },
    {
      "cell_type": "code",
      "source": [
        "class Solution(object):\n",
        "    def fizzBuzz(self, n):\n",
        "        \"\"\"\n",
        "        :type n: int\n",
        "        :rtype: List[str]\n",
        "        \"\"\"\n",
        "        ans=[]\n",
        "        for i in range(1,n+1):\n",
        "            if i % 3==0 and i % 5 ==0:\n",
        "                ans.append(\"FizzBuzz\")\n",
        "            elif i % 3==0:\n",
        "                ans.append(\"Fizz\")\n",
        "            elif i % 5==0:\n",
        "                ans.append(\"Buzz\")\n",
        "            else:\n",
        "                ans.append(str(i))\n",
        "        return ans"
      ],
      "metadata": {
        "id": "oskblL43XI4q"
      },
      "execution_count": null,
      "outputs": []
    },
    {
      "cell_type": "markdown",
      "source": [],
      "metadata": {
        "id": "b-466zgMXzpe"
      }
    },
    {
      "cell_type": "markdown",
      "source": [
        "### round off grade to the nearest 5 "
      ],
      "metadata": {
        "id": "LiThTu0UXTmI"
      }
    },
    {
      "cell_type": "code",
      "source": [
        "def gradingStudents(grades):\n",
        "    # Write your code here\n",
        "    for i in range(len(grades)):\n",
        "        if grades[i]>=38:\n",
        "            if grades[i] % 5 >=3 :\n",
        "                grades[i]=5*((grades[i]//5) + 1)\n",
        "    return grades"
      ],
      "metadata": {
        "id": "wjs7FdRoXaPG"
      },
      "execution_count": null,
      "outputs": []
    },
    {
      "cell_type": "markdown",
      "source": [
        "### How many 1*2 Squares fit in a M*N rectangle "
      ],
      "metadata": {
        "id": "htwS5AxUXdt5"
      }
    },
    {
      "cell_type": "code",
      "source": [
        "if __name__ == '__main__':\n",
        "    M, N = input().split(\" \")\n",
        "    print((int(M) * int(N)) // 2)"
      ],
      "metadata": {
        "id": "yc3dwFlfXtnV"
      },
      "execution_count": null,
      "outputs": []
    },
    {
      "cell_type": "markdown",
      "source": [
        "### Bubble Sort"
      ],
      "metadata": {
        "id": "Ya9mw8jHa0-d"
      }
    },
    {
      "cell_type": "code",
      "source": [
        "def countSwaps(a):\n",
        "    # Write your code here\n",
        "    swap=True\n",
        "    count=0\n",
        "    while swap:\n",
        "        swap=False\n",
        "        for i in range(len(a)-1):\n",
        "            if a[i]>a[i+1]:\n",
        "                temp=a[i]\n",
        "                a[i]=a[i+1]\n",
        "                a[i+1]=temp\n",
        "                count=count+1\n",
        "                swap=True\n",
        "    print(\"Array is sorted in {} swaps.\".format(count))\n",
        "    print(\"First Element: {}\".format(a[0]))\n",
        "    print(\"Last Element: {}\".format(a[len(a)-1]))"
      ],
      "metadata": {
        "id": "LNMGbRP8a38f"
      },
      "execution_count": null,
      "outputs": []
    },
    {
      "cell_type": "markdown",
      "source": [
        "### Insertion Sort"
      ],
      "metadata": {
        "id": "zvJIXhtaf_rc"
      }
    },
    {
      "cell_type": "code",
      "source": [
        "def insertionSort1(n, arr):\n",
        "    # Write your code here\n",
        "    insertValue=arr[-1]\n",
        "    for i in range(len(arr)-1,-1,-1):\n",
        "        if i==0:\n",
        "            arr[i]=insertValue\n",
        "            print(' '.join([str(a) for a in arr]))\n",
        "            break\n",
        "        \n",
        "        arr[i]=arr[i-1]\n",
        "        \n",
        "        if arr[i]< insertValue:\n",
        "            arr[i]=insertValue\n",
        "            print(' '.join([str(a) for a in arr]))\n",
        "            break\n",
        "        print(' '.join([str(a) for a in arr]))"
      ],
      "metadata": {
        "id": "9mMQOglzgC0I"
      },
      "execution_count": null,
      "outputs": []
    },
    {
      "cell_type": "markdown",
      "source": [
        "### Counting Sort"
      ],
      "metadata": {
        "id": "RATQ65iph9kX"
      }
    },
    {
      "cell_type": "code",
      "source": [
        "def countingSort(arr):\n",
        "    # Write your code here\n",
        "    count=[0]*100\n",
        "    for i in range(len(arr)):\n",
        "        count[arr[i]]+=1\n",
        "    return count"
      ],
      "metadata": {
        "id": "5Ls-ZDm8iAjC"
      },
      "execution_count": null,
      "outputs": []
    },
    {
      "cell_type": "markdown",
      "source": [
        "### Selection Sort"
      ],
      "metadata": {
        "id": "kjVn6Owu0d3I"
      }
    },
    {
      "cell_type": "code",
      "source": [
        "class Solution: \n",
        "    def select(self, arr, i):\n",
        "        minElem=arr[i]\n",
        "        index=i\n",
        "        for a in range(i,len(arr)):\n",
        "            if arr[a]<minElem:\n",
        "                minElem=arr[a]\n",
        "                index=a\n",
        "        return minElem,index\n",
        "                \n",
        "    \n",
        "    def selectionSort(self, arr,n):\n",
        "        #code here\n",
        "        for b in range(len(arr)):\n",
        "            elem, index = self.select(arr, b)\n",
        "            temp=arr[b]\n",
        "            arr[b]=arr[index]\n",
        "            arr[index]=temp\n",
        "        return arr"
      ],
      "metadata": {
        "id": "begbgOZT0dfL"
      },
      "execution_count": null,
      "outputs": []
    },
    {
      "cell_type": "markdown",
      "source": [
        "### Sort the words in the sentence : I used Selection Sort\n"
      ],
      "metadata": {
        "id": "cBlrZ2kj3i6Z"
      }
    },
    {
      "cell_type": "code",
      "source": [
        "class Solution(object):\n",
        "    def select(self,words,i):\n",
        "        minW=int(words[i][-1])\n",
        "        index=i\n",
        "        word=words[i]\n",
        "        for a in range(i,len(words)):\n",
        "            if int(words[a][-1])<minW:\n",
        "                index=a\n",
        "                word=words[a]\n",
        "                minW=int(words[a][-1])\n",
        "        return index,word\n",
        "                \n",
        "            \n",
        "    def sortSentence(self, s):\n",
        "        \"\"\"\n",
        "        :type s: str\n",
        "        :rtype: str\n",
        "        \"\"\"\n",
        "        words=s.split(\" \")\n",
        "        \n",
        "        for i in range(len(words)):\n",
        "            index,word=self.select(words,i)\n",
        "            temp=words[index]\n",
        "            words[index]=words[i]\n",
        "            words[i]=temp\n",
        "        return (\" \".join([word[:-1] for word in words]))\n",
        "            "
      ],
      "metadata": {
        "id": "En_Nuv9H3onh"
      },
      "execution_count": null,
      "outputs": []
    },
    {
      "cell_type": "markdown",
      "source": [
        "### Count the numbers less than each elem in the arr"
      ],
      "metadata": {
        "id": "ujFcll4_3uBJ"
      }
    },
    {
      "cell_type": "code",
      "source": [
        "class Solution(object):\n",
        "    def smallerNumbersThanCurrent(self, nums):\n",
        "        \"\"\"\n",
        "        :type nums: List[int]\n",
        "        :rtype: List[int]\n",
        "        \"\"\"\n",
        "        count=[0]*len(nums)\n",
        "        for i in range(len(nums)):\n",
        "            current=nums[i]\n",
        "            for b in range(len(nums)):\n",
        "                if nums[b]<nums[i]:\n",
        "                    count[i]+=1\n",
        "        return count"
      ],
      "metadata": {
        "id": "-H4Hz_7X31CF"
      },
      "execution_count": null,
      "outputs": []
    },
    {
      "cell_type": "markdown",
      "source": [
        "### Count appearances of target"
      ],
      "metadata": {
        "id": "DBmhUjG78IqW"
      }
    },
    {
      "cell_type": "code",
      "source": [
        "class Solution(object):\n",
        "    def targetIndices(self, nums, target):\n",
        "        \"\"\"\n",
        "        :type nums: List[int]\n",
        "        :type target: int\n",
        "        :rtype: List[int]\n",
        "        \"\"\"\n",
        "        ans=[]\n",
        "        nums.sort()\n",
        "        for i in range(len(nums)):\n",
        "            if nums[i]==target:\n",
        "                ans.append(i)\n",
        "        return ans"
      ],
      "metadata": {
        "id": "x9ErSWq38N18"
      },
      "execution_count": null,
      "outputs": []
    },
    {
      "cell_type": "markdown",
      "source": [
        "### Sort Colors"
      ],
      "metadata": {
        "id": "HrhujDlFMvo9"
      }
    },
    {
      "cell_type": "code",
      "source": [
        "class Solution(object):\n",
        "    def sortColors(self, nums):\n",
        "        \"\"\"\n",
        "        :type nums: List[int]\n",
        "        :rtype: None Do not return anything, modify nums in-place instead.\n",
        "        \"\"\"\n",
        "        nums.sort()"
      ],
      "metadata": {
        "id": "hpE9Wn2gMyqh"
      },
      "execution_count": null,
      "outputs": []
    },
    {
      "cell_type": "markdown",
      "source": [
        "### Nearing x,y points to 0,0 coordinate \n",
        "I tried using selection sort but a time limit exceeded happened\n",
        "then i used mergesort and it worked well"
      ],
      "metadata": {
        "id": "cHyDjIAuS6MU"
      }
    },
    {
      "cell_type": "code",
      "source": [
        "import math\n",
        "class Solution(object):\n",
        "    def Euclidean(self,points):\n",
        "        return math.sqrt(pow(points[0],2)+pow(points[1],2))\n",
        "    \n",
        "    def Select(self,points,index):\n",
        "        minPoints=points[index]\n",
        "        minDistance=self.Euclidean(minPoints)\n",
        "        minIndex=index\n",
        "        for i in range(index,len(points)):\n",
        "            distance=self.Euclidean(points[i])\n",
        "            if minDistance>distance:\n",
        "                minDistance=distance\n",
        "                minIndex=i\n",
        "        return minIndex\n",
        "    \n",
        "    def SelectionSort(self,points):\n",
        "        \n",
        "        for i in range(len(points)):\n",
        "            minIndex=self.Select(points,i)\n",
        "            temp=points[minIndex]\n",
        "            points[minIndex]=points[i]\n",
        "            points[i]=temp\n",
        "        return points\n",
        "        \n",
        "    # Python program for implementation of MergeSort\n",
        "    def mergeSort(self,arr):\n",
        "        if len(arr) > 1:\n",
        "\n",
        "            # Finding the mid of the array\n",
        "            mid = len(arr)//2\n",
        "\n",
        "            # Dividing the array elements\n",
        "            L = arr[:mid]\n",
        "\n",
        "            # into 2 halves\n",
        "            R = arr[mid:]\n",
        "\n",
        "            # Sorting the first half\n",
        "            self.mergeSort(L)\n",
        "\n",
        "            # Sorting the second half\n",
        "            self.mergeSort(R)\n",
        "\n",
        "            i = j = k = 0\n",
        "\n",
        "            # Copy data to temp arrays L[] and R[]\n",
        "            while i < len(L) and j < len(R):\n",
        "                distanceL=self.Euclidean(L[i])\n",
        "                distanceR=self.Euclidean(R[j])\n",
        "                if distanceL <= distanceR:\n",
        "                    arr[k] = L[i]\n",
        "                    i += 1\n",
        "                else:\n",
        "                    arr[k] = R[j]\n",
        "                    j += 1\n",
        "                k += 1\n",
        "\n",
        "            # Checking if any element was left\n",
        "            while i < len(L):\n",
        "                arr[k] = L[i]\n",
        "                i += 1\n",
        "                k += 1\n",
        "\n",
        "            while j < len(R):\n",
        "                arr[k] = R[j]\n",
        "                j += 1\n",
        "                k += 1\n",
        "\n",
        "        return arr\n",
        "\n",
        "\n",
        "\n",
        "        \n",
        "    def kClosest(self, points, k):\n",
        "        \"\"\"\n",
        "        :type points: List[List[int]]\n",
        "        :type k: int\n",
        "        :rtype: List[List[int]]\n",
        "        \"\"\"\n",
        "        #minDistance=float('inf')\n",
        "        #minPoints=self.SelectionSort(points)\n",
        "        minPoints=self.mergeSort(points)\n",
        "                \n",
        "        return minPoints[:k]\n",
        "        "
      ],
      "metadata": {
        "id": "fUXSHTwXS-fi"
      },
      "execution_count": null,
      "outputs": []
    },
    {
      "cell_type": "markdown",
      "source": [
        "### 1968. Array With Elements Not Equal to Average of Neighbors\n",
        "for this to work you need every middle element or i%2=!0 to be greater than its surrounding neighbours\n",
        "so insert small elements in alternative positions i.e i%2==0 , then insert the remaining big elements in the remaining positions i %2 !=0 \n",
        "\n",
        "\n",
        "> [1,2,3,4,5]\n",
        ": first step --> [1,--,2--,3]\n",
        ": second step --> [1,4,2,5,3]\n",
        ": small, big, small, big\n"
      ],
      "metadata": {
        "id": "EuUtPWBMo6H9"
      }
    },
    {
      "cell_type": "code",
      "source": [
        "import collections\n",
        "class Solution(object):\n",
        "    def rearrangeArray(self, nums):\n",
        "        \"\"\"\n",
        "        :type nums: List[int]\n",
        "        :rtype: List[int]\n",
        "        \"\"\"\n",
        "        sortedNums=sorted(nums)\n",
        "        sortedNums=collections.deque(sortedNums)\n",
        "        \n",
        "        newNums=[0]*len(nums)\n",
        "        \n",
        "        for i in range(0,len(nums)):\n",
        "            if i%2==0:\n",
        "                newNums[i]=sortedNums.popleft()\n",
        "        for i in range(0,len(nums)):\n",
        "            if i%2!=0:\n",
        "                newNums[i]=sortedNums.popleft()\n",
        "            \n",
        "        return newNums\n",
        "        "
      ],
      "metadata": {
        "id": "RH9NkMOWqQGI"
      },
      "execution_count": null,
      "outputs": []
    },
    {
      "cell_type": "markdown",
      "source": [
        "### 56. Merge Intervals"
      ],
      "metadata": {
        "id": "S2P4PDPPntoM"
      }
    },
    {
      "cell_type": "code",
      "source": [
        "class Solution(object):\n",
        "    def mergesort(self,arr):\n",
        "        if len(arr) > 1:\n",
        "            # Finding the mid of the array\n",
        "            mid = len(arr)//2\n",
        "\n",
        "            # Dividing the array elements\n",
        "            L = arr[:mid]\n",
        "\n",
        "            # into 2 halves\n",
        "            R = arr[mid:]\n",
        "\n",
        "            # Sorting the first half\n",
        "            self.mergesort(L)\n",
        "\n",
        "            # Sorting the second half\n",
        "            self.mergesort(R)\n",
        "\n",
        "            i = j = k = 0\n",
        "\n",
        "            # Copy data to temp arrays L[] and R[]\n",
        "            while i < len(L) and j < len(R):\n",
        "                distanceL=L[i][0]\n",
        "                distanceR=R[j][0]\n",
        "                if distanceL <= distanceR:\n",
        "                    arr[k] = L[i]\n",
        "                    i += 1\n",
        "                else:\n",
        "                    arr[k] = R[j]\n",
        "                    j += 1\n",
        "                k += 1\n",
        "\n",
        "            # Checking if any element was left\n",
        "            while i < len(L):\n",
        "                arr[k] = L[i]\n",
        "                i += 1\n",
        "                k += 1\n",
        "\n",
        "            while j < len(R):\n",
        "                arr[k] = R[j]\n",
        "                j += 1\n",
        "                k += 1\n",
        "\n",
        "        return arr\n",
        "                    \n",
        "            \n",
        "    def merge(self, intervals):\n",
        "        \"\"\"\n",
        "        :type intervals: List[List[int]]\n",
        "        :rtype: List[List[int]]\n",
        "        \"\"\"\n",
        "        intervals=self.mergesort(intervals)\n",
        "        mergedIntervals=[]\n",
        "        running=intervals[0]\n",
        "        \n",
        "        for i in range(1,len(intervals)):\n",
        "            startS=intervals[i][0]\n",
        "            endS=intervals[i][1]\n",
        "            \n",
        "            if startS<=running[1]:\n",
        "                running[1]=max(endS,running[1])\n",
        "            else:\n",
        "                mergedIntervals.append(running)\n",
        "                running=intervals[i]\n",
        "        mergedIntervals.append(running)\n",
        "                \n",
        "        return mergedIntervals\n",
        "        \n",
        "    "
      ],
      "metadata": {
        "id": "kkrgGa--oBKi"
      },
      "execution_count": null,
      "outputs": []
    }
  ]
}