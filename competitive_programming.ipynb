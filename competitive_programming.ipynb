{
  "nbformat": 4,
  "nbformat_minor": 0,
  "metadata": {
    "colab": {
      "provenance": [],
      "authorship_tag": "ABX9TyP6q6u/XD+yUCCr7U9xuTRy",
      "include_colab_link": true
    },
    "kernelspec": {
      "name": "python3",
      "display_name": "Python 3"
    },
    "language_info": {
      "name": "python"
    }
  },
  "cells": [
    {
      "cell_type": "markdown",
      "metadata": {
        "id": "view-in-github",
        "colab_type": "text"
      },
      "source": [
        "<a href=\"https://colab.research.google.com/github/mohamed-gudle/competitive_programming/blob/main/competitive_programming.ipynb\" target=\"_parent\"><img src=\"https://colab.research.google.com/assets/colab-badge.svg\" alt=\"Open In Colab\"/></a>"
      ]
    },
    {
      "cell_type": "markdown",
      "source": [
        "#Trees and Graphs"
      ],
      "metadata": {
        "id": "f77P_Xl93DIa"
      }
    },
    {
      "cell_type": "markdown",
      "source": [
        "### PreOrder Traversal- visit the root first , then left then right."
      ],
      "metadata": {
        "id": "3WSWN9sV6sIP"
      }
    },
    {
      "cell_type": "code",
      "execution_count": null,
      "metadata": {
        "id": "4WjP1Ck_29uM"
      },
      "outputs": [],
      "source": [
        "class Node:\n",
        "    def __init__(self, info): \n",
        "        self.info = info  \n",
        "        self.left = None  \n",
        "        self.right = None \n",
        "        self.level = None \n",
        "\n",
        "    def __str__(self):\n",
        "        return str(self.info) \n",
        "\n",
        "class BinarySearchTree:\n",
        "    def __init__(self): \n",
        "        self.root = None\n",
        "\n",
        "    def create(self, val):  \n",
        "        if self.root == None:\n",
        "            self.root = Node(val)\n",
        "        else:\n",
        "            current = self.root\n",
        "         \n",
        "            while True:\n",
        "                if val < current.info:\n",
        "                    if current.left:\n",
        "                        current = current.left\n",
        "                    else:\n",
        "                        current.left = Node(val)\n",
        "                        break\n",
        "                elif val > current.info:\n",
        "                    if current.right:\n",
        "                        current = current.right\n",
        "                    else:\n",
        "                        current.right = Node(val)\n",
        "                        break\n",
        "                else:\n",
        "                    break\n",
        "\n",
        "\"\"\"\n",
        "Node is defined as\n",
        "self.left (the left child of the node)\n",
        "self.right (the right child of the node)\n",
        "self.info (the value of the node)\n",
        "\"\"\"\n",
        "def po(root,s):\n",
        "    if root==None:\n",
        "        return\n",
        "    s.append(root.info)\n",
        "    po(root.left,s)\n",
        "    po(root.right,s)\n",
        "\n",
        "def preOrder(root):\n",
        "    \n",
        "    #Write your code here\n",
        "    s=[]\n",
        "    po(root,s)\n",
        "    print(' '.join([str(a) for a in s]))\n"
      ]
    },
    {
      "cell_type": "markdown",
      "source": [
        "### Height Of Tree\n",
        "get the max of the left and right nodes and add it to the current height value .\n",
        "current height value is 1 but if we dont find a left or right node , then it becomes 0 so return -1 if none."
      ],
      "metadata": {
        "id": "i7Z7qfhiBZpy"
      }
    },
    {
      "cell_type": "code",
      "source": [
        "def getHeight(root):\n",
        "    if root==None:\n",
        "        return -1\n",
        "    Height=1\n",
        "    Height=Height+max(getHeight(root.left),getHeight(root.right))\n",
        "    return Height\n",
        "\n",
        "def height(root):\n",
        "    return getHeight(root)"
      ],
      "metadata": {
        "id": "xlZH1JuZBgJV"
      },
      "execution_count": null,
      "outputs": []
    },
    {
      "cell_type": "markdown",
      "source": [
        "### Level Order Traversal\n",
        "use a que: insert first item into que , while que has items pop from left and save and then insert left and right of popped items to que"
      ],
      "metadata": {
        "id": "HhTc-k-uKZHZ"
      }
    },
    {
      "cell_type": "code",
      "source": [
        "import collections\n",
        "def levelOrder(root):\n",
        "    #Write your code here\n",
        "    que=collections.deque([root])\n",
        "    answer=[]\n",
        "    while que:\n",
        "        elem=que.popleft()\n",
        "        if elem:\n",
        "            que.append(elem.left)\n",
        "            que.append(elem.right)\n",
        "            answer.append(elem)\n",
        "    print(' '.join([str(s) for s in answer]))"
      ],
      "metadata": {
        "id": "0L4acW2RKfCf"
      },
      "execution_count": null,
      "outputs": []
    },
    {
      "cell_type": "markdown",
      "source": [
        "### Insert Value at leaf BST\n",
        "use recursion \n",
        "if the value is less than root and left exists then pass root.left to insert node function else if not new left is the val \n",
        "if the value is less than root and right exists then pass root.right to insert node function else if not new right is the val \n"
      ],
      "metadata": {
        "id": "jAcSRAVBXqbp"
      }
    },
    {
      "cell_type": "code",
      "source": [
        "class Node:\n",
        "    def __init__(self, info):\n",
        "        self.info = info  \n",
        "        self.left = None  \n",
        "        self.right = None \n",
        "        self.level = None \n",
        "\n",
        "    def __str__(self):\n",
        "        return str(self.info) \n",
        "\n",
        "def preOrder(root):\n",
        "    if root == None:\n",
        "        return\n",
        "    print (root.info, end=\" \")\n",
        "    preOrder(root.left)\n",
        "    preOrder(root.right)\n",
        "    \n",
        "class BinarySearchTree:\n",
        "    def __init__(self): \n",
        "        self.root = None\n",
        "\n",
        "#Node is defined as\n",
        "#self.left (the left child of the node)\n",
        "#self.right (the right child of the node)\n",
        "#self.info (the value of the node)\n",
        "\n",
        "    def insertN(self,val,root):\n",
        "        if root.info > val:\n",
        "            if root.left==None:\n",
        "                root.left=Node(val)\n",
        "                return\n",
        "            else:\n",
        "                self.insertN(val,root.left)\n",
        "        else:\n",
        "            if root.right ==None:\n",
        "                root.right=Node(val)\n",
        "                return\n",
        "            else:\n",
        "                self.insertN(val,root.right)\n",
        "        \n",
        "\n",
        "    def insert(self, val):\n",
        "        #Enter you code here.\n",
        "        if self.root ==None:\n",
        "            self.root=Node(val)\n",
        "        else:\n",
        "            self.insertN(val,self.root)"
      ],
      "metadata": {
        "id": "Sf8CkKYSYKJM"
      },
      "execution_count": null,
      "outputs": []
    },
    {
      "cell_type": "markdown",
      "source": [
        "### Hoffman Code"
      ],
      "metadata": {
        "id": "3-DiZF-vcd7M"
      }
    },
    {
      "cell_type": "code",
      "source": [
        "import queue as Queue\n",
        "\n",
        "cntr = 0\n",
        "\n",
        "class Node:\n",
        "    def __init__(self, freq, data):\n",
        "        self.freq = freq\n",
        "        self.data = data\n",
        "        self.left = None\n",
        "        self.right = None\n",
        "        global cntr\n",
        "        self._count = cntr\n",
        "        cntr = cntr + 1\n",
        "        \n",
        "    def __lt__(self, other):\n",
        "        if self.freq != other.freq:\n",
        "            return self.freq < other.freq\n",
        "        return self._count < other._count\n",
        "\n",
        "def huffman_hidden():#builds the tree and returns root\n",
        "    q = Queue.PriorityQueue()\n",
        "\n",
        "    \n",
        "    for key in freq:\n",
        "        q.put((freq[key], key, Node(freq[key], key) ))\n",
        "    \n",
        "    while q.qsize() != 1:\n",
        "        a = q.get()\n",
        "        b = q.get()\n",
        "        obj = Node(a[0] + b[0], '\\0' )\n",
        "        obj.left = a[2]\n",
        "        obj.right = b[2]\n",
        "        q.put((obj.freq, obj.data, obj ))\n",
        "        \n",
        "    root = q.get()\n",
        "    root = root[2]#contains root object\n",
        "    return root\n",
        "\n",
        "def dfs_hidden(obj, already):\n",
        "    if(obj == None):\n",
        "        return\n",
        "    elif(obj.data != '\\0'):\n",
        "        code_hidden[obj.data] = already\n",
        "        \n",
        "    dfs_hidden(obj.right, already + \"1\")\n",
        "    dfs_hidden(obj.left, already + \"0\")\n",
        "\n",
        "\"\"\"class Node:\n",
        "    def __init__(self, freq,data):\n",
        "        self.freq= freq\n",
        "        self.data=data\n",
        "        self.left = None\n",
        "        self.right = None\n",
        "\"\"\"        \n",
        "\n",
        "# Enter your code here. Read input from STDIN. Print output to STDOUT\n",
        "def decodeHuff(root, s):\n",
        "    #Enter Your Code Here\n",
        "    l2c={}\n",
        "    setS=set(s)\n",
        "    print(s)\n",
        "            \n",
        "    \n",
        "\n"
      ],
      "metadata": {
        "id": "dgc-IX-QciLO"
      },
      "execution_count": null,
      "outputs": []
    },
    {
      "cell_type": "code",
      "source": [
        "decodeHuff(None,\"ABRACADABRA\")"
      ],
      "metadata": {
        "id": "RqwknhVbdF7X"
      },
      "execution_count": null,
      "outputs": []
    },
    {
      "cell_type": "code",
      "source": [
        "ip = input()\n",
        "freq = {}#maps each character to its frequency\n",
        "\n",
        "cntr = 0\n",
        "\n",
        "for ch in ip:\n",
        "    if(freq.get(ch) == None):\n",
        "        freq[ch] = 1\n",
        "    else:\n",
        "        freq[ch]+=1\n",
        "\n",
        "root = huffman_hidden()#contains root of huffman tree\n",
        "\n",
        "code_hidden = {}#contains code for each object\n",
        "\n",
        "dfs_hidden(root, \"\")\n",
        "\n",
        "if len(code_hidden) == 1:#if there is only one character in the i/p\n",
        "    for key in code_hidden:\n",
        "        code_hidden[key] = \"0\"\n",
        "\n",
        "toBeDecoded = \"\"\n",
        "\n",
        "for ch in ip:\n",
        "   toBeDecoded += code_hidden[ch]\n",
        "\n",
        "decodeHuff(root, toBeDecoded)\n"
      ],
      "metadata": {
        "id": "Fv2NUElacukD"
      },
      "execution_count": null,
      "outputs": []
    },
    {
      "cell_type": "markdown",
      "source": [
        "# ADS progress Sheet"
      ],
      "metadata": {
        "id": "XjWRmJvEXD1t"
      }
    },
    {
      "cell_type": "markdown",
      "source": [
        "### FizzBuzz"
      ],
      "metadata": {
        "id": "6ANVG4mSXLfx"
      }
    },
    {
      "cell_type": "code",
      "source": [
        "class Solution(object):\n",
        "    def fizzBuzz(self, n):\n",
        "        \"\"\"\n",
        "        :type n: int\n",
        "        :rtype: List[str]\n",
        "        \"\"\"\n",
        "        ans=[]\n",
        "        for i in range(1,n+1):\n",
        "            if i % 3==0 and i % 5 ==0:\n",
        "                ans.append(\"FizzBuzz\")\n",
        "            elif i % 3==0:\n",
        "                ans.append(\"Fizz\")\n",
        "            elif i % 5==0:\n",
        "                ans.append(\"Buzz\")\n",
        "            else:\n",
        "                ans.append(str(i))\n",
        "        return ans"
      ],
      "metadata": {
        "id": "oskblL43XI4q"
      },
      "execution_count": null,
      "outputs": []
    },
    {
      "cell_type": "markdown",
      "source": [],
      "metadata": {
        "id": "b-466zgMXzpe"
      }
    },
    {
      "cell_type": "markdown",
      "source": [
        "### round off grade to the nearest 5 "
      ],
      "metadata": {
        "id": "LiThTu0UXTmI"
      }
    },
    {
      "cell_type": "code",
      "source": [
        "def gradingStudents(grades):\n",
        "    # Write your code here\n",
        "    for i in range(len(grades)):\n",
        "        if grades[i]>=38:\n",
        "            if grades[i] % 5 >=3 :\n",
        "                grades[i]=5*((grades[i]//5) + 1)\n",
        "    return grades"
      ],
      "metadata": {
        "id": "wjs7FdRoXaPG"
      },
      "execution_count": null,
      "outputs": []
    },
    {
      "cell_type": "markdown",
      "source": [
        "### How many 1*2 Squares fit in a M*N rectangle "
      ],
      "metadata": {
        "id": "htwS5AxUXdt5"
      }
    },
    {
      "cell_type": "code",
      "source": [
        "if __name__ == '__main__':\n",
        "    M, N = input().split(\" \")\n",
        "    print((int(M) * int(N)) // 2)"
      ],
      "metadata": {
        "id": "yc3dwFlfXtnV"
      },
      "execution_count": null,
      "outputs": []
    },
    {
      "cell_type": "code",
      "source": [],
      "metadata": {
        "id": "SFAgUXMKXdTi"
      },
      "execution_count": null,
      "outputs": []
    }
  ]
}