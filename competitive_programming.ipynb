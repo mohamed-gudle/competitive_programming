{
  "nbformat": 4,
  "nbformat_minor": 0,
  "metadata": {
    "colab": {
      "provenance": [],
      "authorship_tag": "ABX9TyOSOCgNdSvRMcLH5EPQwZda"
    },
    "kernelspec": {
      "name": "python3",
      "display_name": "Python 3"
    },
    "language_info": {
      "name": "python"
    }
  },
  "cells": [
    {
      "cell_type": "markdown",
      "source": [
        "# ADS progress Sheet"
      ],
      "metadata": {
        "id": "XjWRmJvEXD1t"
      }
    },
    {
      "cell_type": "markdown",
      "source": [
        "### FizzBuzz"
      ],
      "metadata": {
        "id": "6ANVG4mSXLfx"
      }
    },
    {
      "cell_type": "code",
      "source": [
        "class Solution(object):\n",
        "    def fizzBuzz(self, n):\n",
        "        \"\"\"\n",
        "        :type n: int\n",
        "        :rtype: List[str]\n",
        "        \"\"\"\n",
        "        ans=[]\n",
        "        for i in range(1,n+1):\n",
        "            if i % 3==0 and i % 5 ==0:\n",
        "                ans.append(\"FizzBuzz\")\n",
        "            elif i % 3==0:\n",
        "                ans.append(\"Fizz\")\n",
        "            elif i % 5==0:\n",
        "                ans.append(\"Buzz\")\n",
        "            else:\n",
        "                ans.append(str(i))\n",
        "        return ans"
      ],
      "metadata": {
        "id": "oskblL43XI4q"
      },
      "execution_count": null,
      "outputs": []
    },
    {
      "cell_type": "markdown",
      "source": [],
      "metadata": {
        "id": "b-466zgMXzpe"
      }
    },
    {
      "cell_type": "markdown",
      "source": [
        "### round off grade to the nearest 5 "
      ],
      "metadata": {
        "id": "LiThTu0UXTmI"
      }
    },
    {
      "cell_type": "code",
      "source": [
        "def gradingStudents(grades):\n",
        "    # Write your code here\n",
        "    for i in range(len(grades)):\n",
        "        if grades[i]>=38:\n",
        "            if grades[i] % 5 >=3 :\n",
        "                grades[i]=5*((grades[i]//5) + 1)\n",
        "    return grades"
      ],
      "metadata": {
        "id": "wjs7FdRoXaPG"
      },
      "execution_count": null,
      "outputs": []
    },
    {
      "cell_type": "markdown",
      "source": [
        "### How many 1*2 Squares fit in a M*N rectangle "
      ],
      "metadata": {
        "id": "htwS5AxUXdt5"
      }
    },
    {
      "cell_type": "code",
      "source": [
        "if __name__ == '__main__':\n",
        "    M, N = input().split(\" \")\n",
        "    print((int(M) * int(N)) // 2)"
      ],
      "metadata": {
        "id": "yc3dwFlfXtnV"
      },
      "execution_count": null,
      "outputs": []
    },
    {
      "cell_type": "markdown",
      "source": [
        "### Bubble Sort"
      ],
      "metadata": {
        "id": "Ya9mw8jHa0-d"
      }
    },
    {
      "cell_type": "code",
      "source": [
        "def countSwaps(a):\n",
        "    # Write your code here\n",
        "    swap=True\n",
        "    count=0\n",
        "    while swap:\n",
        "        swap=False\n",
        "        for i in range(len(a)-1):\n",
        "            if a[i]>a[i+1]:\n",
        "                temp=a[i]\n",
        "                a[i]=a[i+1]\n",
        "                a[i+1]=temp\n",
        "                count=count+1\n",
        "                swap=True\n",
        "    print(\"Array is sorted in {} swaps.\".format(count))\n",
        "    print(\"First Element: {}\".format(a[0]))\n",
        "    print(\"Last Element: {}\".format(a[len(a)-1]))"
      ],
      "metadata": {
        "id": "LNMGbRP8a38f"
      },
      "execution_count": null,
      "outputs": []
    },
    {
      "cell_type": "markdown",
      "source": [
        "### Insertion Sort"
      ],
      "metadata": {
        "id": "zvJIXhtaf_rc"
      }
    },
    {
      "cell_type": "code",
      "source": [
        "def insertionSort1(n, arr):\n",
        "    # Write your code here\n",
        "    insertValue=arr[-1]\n",
        "    for i in range(len(arr)-1,-1,-1):\n",
        "        if i==0:\n",
        "            arr[i]=insertValue\n",
        "            print(' '.join([str(a) for a in arr]))\n",
        "            break\n",
        "        \n",
        "        arr[i]=arr[i-1]\n",
        "        \n",
        "        if arr[i]< insertValue:\n",
        "            arr[i]=insertValue\n",
        "            print(' '.join([str(a) for a in arr]))\n",
        "            break\n",
        "        print(' '.join([str(a) for a in arr]))"
      ],
      "metadata": {
        "id": "9mMQOglzgC0I"
      },
      "execution_count": null,
      "outputs": []
    },
    {
      "cell_type": "markdown",
      "source": [
        "### Counting Sort"
      ],
      "metadata": {
        "id": "RATQ65iph9kX"
      }
    },
    {
      "cell_type": "code",
      "source": [
        "def countingSort(arr):\n",
        "    # Write your code here\n",
        "    count=[0]*100\n",
        "    for i in range(len(arr)):\n",
        "        count[arr[i]]+=1\n",
        "    return count"
      ],
      "metadata": {
        "id": "5Ls-ZDm8iAjC"
      },
      "execution_count": null,
      "outputs": []
    }
  ]
}